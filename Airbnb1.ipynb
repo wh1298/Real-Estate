{
 "cells": [
  {
   "cell_type": "code",
   "execution_count": 21,
   "id": "03fa04d6",
   "metadata": {},
   "outputs": [
    {
     "name": "stdout",
     "output_type": "stream",
     "text": [
      "     Unnamed: 0  Price                        Name  Ratings Beds\n",
      "0             0  115.0         Condo in Alexandria   4.2000    2\n",
      "1             1   79.0         Home in Springfield   4.2000    2\n",
      "2             2   81.0     Townhouse in Alexandria   4.9146    1\n",
      "3             3  121.0   Hotel room in Springfield   4.7540    2\n",
      "4             4   86.0  Guest suite in Springfield   4.8425    1\n",
      "..          ...    ...                         ...      ...  ...\n",
      "295         295   71.0          Home in Alexandria   4.0300    2\n",
      "296         296  112.0    Apartment in Springfield   5.0100    4\n",
      "297         297  110.0         Apartment in Lorton   4.7315    3\n",
      "298         298  159.0     Apartment in Alexandria   5.0150    1\n",
      "299         299   91.0         Condo in Alexandria   5.0400    2\n",
      "\n",
      "[300 rows x 5 columns]\n"
     ]
    }
   ],
   "source": [
    "import pandas as pd\n",
    "\n",
    "df = pd.read_csv(r\"C:\\Users\\wayne\\Documents\\Real Estate Python\\airbnb_springfield_va_9_6.csv\")\n",
    "df['Beds'] = df['Beds'].str.extract('(\\\\d+)', expand=False)\n",
    "print(df)"
   ]
  },
  {
   "cell_type": "code",
   "execution_count": 24,
   "id": "053d6e96",
   "metadata": {},
   "outputs": [
    {
     "name": "stdout",
     "output_type": "stream",
     "text": [
      "  Beds  Avg $/night\n",
      "0    1    89.083333\n",
      "1    2   111.833333\n",
      "2    3   110.000000\n",
      "3    4   112.000000\n"
     ]
    }
   ],
   "source": [
    "df1 = df.groupby(['Beds'], as_index=False).mean().groupby('Beds')['Price'].mean().reset_index(name ='Avg $/night')\n",
    "print(df1)"
   ]
  }
 ],
 "metadata": {
  "kernelspec": {
   "display_name": "Python 3 (ipykernel)",
   "language": "python",
   "name": "python3"
  },
  "language_info": {
   "codemirror_mode": {
    "name": "ipython",
    "version": 3
   },
   "file_extension": ".py",
   "mimetype": "text/x-python",
   "name": "python",
   "nbconvert_exporter": "python",
   "pygments_lexer": "ipython3",
   "version": "3.9.7"
  }
 },
 "nbformat": 4,
 "nbformat_minor": 5
}
